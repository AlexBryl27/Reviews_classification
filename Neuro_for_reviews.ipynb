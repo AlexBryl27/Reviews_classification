{
  "nbformat": 4,
  "nbformat_minor": 0,
  "metadata": {
    "colab": {
      "name": "Neuro_for_reviews.ipynb",
      "provenance": [],
      "collapsed_sections": []
    },
    "kernelspec": {
      "name": "python3",
      "display_name": "Python 3"
    }
  },
  "cells": [
    {
      "cell_type": "markdown",
      "metadata": {
        "id": "9SNSGeMCuDVc",
        "colab_type": "text"
      },
      "source": [
        "# Классификация отзывов КиноПоиска"
      ]
    },
    {
      "cell_type": "markdown",
      "metadata": {
        "id": "jGicJ9fruLN9",
        "colab_type": "text"
      },
      "source": [
        "В данной работе я на небольшом наборе данных постараюсь провести классификацию отзывов с сайта КиноПоиска с использованием нейросетей. Основная идея - получить наилучший результат классификации по трем категориям отзывов: положительные, отрицательные и нейтральные. Так же я выдвигаю гипотезу, что нейтральные отзывы существенно снижают точность классификации из-за своей невыраженной эмоциональной окраски. Последним шагом исследования будет исключение этой категории из датасета и проверка гипотезы.\n",
        "\n",
        "Для анализа я использую самостоятельно собранный датасет из 3000 отзывов по 1000 в каждой категории."
      ]
    },
    {
      "cell_type": "markdown",
      "metadata": {
        "id": "UxDWPV6Av3oE",
        "colab_type": "text"
      },
      "source": [
        "## Комментарии к парсеру отзывов."
      ]
    },
    {
      "cell_type": "markdown",
      "metadata": {
        "id": "zRiiauPJv8gf",
        "colab_type": "text"
      },
      "source": [
        "К проекту приложен файл 'parse_kinopoisk_reviews.py' с кодом, который я использовал для сбора отзывов. Думаю, стоит дать комментарии к нему, так как данный код исполнялся примерно 40 минут, что, конечно же, долго.\n",
        "\n",
        "К сожалению сервис КиноПоиска не предоставляет официального API, поэтому пришлось прибегать к прямому парсингу страниц. Кроме того, в ходе экспериментов выяснилось, что автоматические запросы сайт банит очень быстро. Не помогает ни передача user-agent, ни расставленные time.sleep с рандомными значениями. Динамическая смена ip помогла на сборе id фильмов, но при парсинге отзывов по этим id сайт все равно банил запросы. Поэтому последним и успешным решением стало использование selenium.\n",
        "\n",
        "По поводу логики парсинга в целом: я не смог выявить закономерность назначения id для фильмов. То есть, например, фильм с id 1000 может существовать, а 1001 - нет. Поэтому возник вопрос, где взять реально существующие id фильмов. Для этого я искал списки на сайте кинопоиска с максимальным количеством фильмов в нем. Этим списком оказался список с \"фильмами, входящими в наибольшее количество списков\" ('https://www.kinopoisk.ru/top/lists/223/). К сожалению, в данном списке фильмы, оцененные в основном положительно, поэтому простой сбор отзывов вызвал бы сильный дисбаланс между положительными и отрицательными отзывами. Поэтому в скрипте поставлено ограничение на размер датасета. В принципе, сбор отзывов закончился на 55 фильме (из 1036 доступных), поэтому ничто не мешает продолжить сбор отзывов пока хватает терпения.\n",
        "\n",
        "Пасер сохраняет отзывы в файл json, который здесь я импортирую и выполню анализ."
      ]
    },
    {
      "cell_type": "markdown",
      "metadata": {
        "id": "1GGZHahu1q5T",
        "colab_type": "text"
      },
      "source": [
        "## Шаг 1. Импорт датасета и предобработка."
      ]
    },
    {
      "cell_type": "markdown",
      "metadata": {
        "id": "1QxYPAWC4euf",
        "colab_type": "text"
      },
      "source": [
        "Трансформацию текстовых отзывов в числовые тензоры я буду выполнять с помощью средств фрейморка keras."
      ]
    },
    {
      "cell_type": "code",
      "metadata": {
        "id": "dN8Dj6c72MpI",
        "colab_type": "code",
        "colab": {}
      },
      "source": [
        "import json\n",
        "import numpy as np\n",
        "from keras.preprocessing.text import Tokenizer\n",
        "from keras.preprocessing.sequence import pad_sequences"
      ],
      "execution_count": 0,
      "outputs": []
    },
    {
      "cell_type": "code",
      "metadata": {
        "id": "ByqTbD3A1HJz",
        "colab_type": "code",
        "colab": {}
      },
      "source": [
        "with open(\"reviews_data.json\", \"r\") as read_file:\n",
        "    load_data = json.load(read_file)"
      ],
      "execution_count": 0,
      "outputs": []
    },
    {
      "cell_type": "code",
      "metadata": {
        "id": "-TR6v-ox5mvO",
        "colab_type": "code",
        "outputId": "e2a565e2-fb3a-453f-9191-94e8092c4904",
        "colab": {
          "base_uri": "https://localhost:8080/",
          "height": 34
        }
      },
      "source": [
        "reviews = []\n",
        "reviews += load_data['good']\n",
        "reviews += load_data['bad']\n",
        "reviews += load_data['neutral']\n",
        "len(reviews)"
      ],
      "execution_count": 139,
      "outputs": [
        {
          "output_type": "execute_result",
          "data": {
            "text/plain": [
              "3000"
            ]
          },
          "metadata": {
            "tags": []
          },
          "execution_count": 139
        }
      ]
    },
    {
      "cell_type": "code",
      "metadata": {
        "id": "trXl9-nk6C6Z",
        "colab_type": "code",
        "outputId": "664fa1e9-b150-426b-86d0-106ce6e6862a",
        "colab": {
          "base_uri": "https://localhost:8080/",
          "height": 34
        }
      },
      "source": [
        "labels = [1 for _ in range(1000)] + [-1 for _ in range(1000)] + [0 for _ in range(1000)]\n",
        "len(labels)"
      ],
      "execution_count": 140,
      "outputs": [
        {
          "output_type": "execute_result",
          "data": {
            "text/plain": [
              "3000"
            ]
          },
          "metadata": {
            "tags": []
          },
          "execution_count": 140
        }
      ]
    },
    {
      "cell_type": "markdown",
      "metadata": {
        "id": "8JUU8vd021vk",
        "colab_type": "text"
      },
      "source": [
        "Назначу константы, которые буду передавать в параметры слоев нейросетей.\n",
        "\n",
        "max_len - длина отзыва. Отзыв будет обрезаться до 500-го слова.\n",
        "\n",
        "training_samples - размер тренировочной выборки.\n",
        "\n",
        "max_words - для работы нейросетей будет использоваться только 10000 наиболее часто встречаемых слов."
      ]
    },
    {
      "cell_type": "code",
      "metadata": {
        "id": "WL758Y4YEh26",
        "colab_type": "code",
        "colab": {}
      },
      "source": [
        "max_len = 500\n",
        "training_samples = 2400\n",
        "max_words = 10000"
      ],
      "execution_count": 0,
      "outputs": []
    },
    {
      "cell_type": "markdown",
      "metadata": {
        "id": "3yPs6nwO36LT",
        "colab_type": "text"
      },
      "source": [
        "Создание индекса всех слов датасета производится с помощью следующих команд:"
      ]
    },
    {
      "cell_type": "code",
      "metadata": {
        "id": "1oVAJi_E9sxf",
        "colab_type": "code",
        "colab": {}
      },
      "source": [
        "tokenizer = Tokenizer(num_words=max_words)\n",
        "tokenizer.fit_on_texts(reviews)"
      ],
      "execution_count": 0,
      "outputs": []
    },
    {
      "cell_type": "markdown",
      "metadata": {
        "id": "eClsMOB74D2v",
        "colab_type": "text"
      },
      "source": [
        "Преобразования каждого отзыва в массив индексов:"
      ]
    },
    {
      "cell_type": "code",
      "metadata": {
        "id": "IakXjRLP9npI",
        "colab_type": "code",
        "outputId": "9e3d76d2-8a5d-4547-982c-41e7a27f049b",
        "colab": {
          "base_uri": "https://localhost:8080/",
          "height": 34
        }
      },
      "source": [
        "sequences = tokenizer.texts_to_sequences(reviews)\n",
        "len(sequences)"
      ],
      "execution_count": 142,
      "outputs": [
        {
          "output_type": "execute_result",
          "data": {
            "text/plain": [
              "3000"
            ]
          },
          "metadata": {
            "tags": []
          },
          "execution_count": 142
        }
      ]
    },
    {
      "cell_type": "markdown",
      "metadata": {
        "id": "Ri-dHqIO4N4u",
        "colab_type": "text"
      },
      "source": [
        "Создание словара: ключ - слово, значение - числовой индекс. Пригодится для работы с предварительно обученными векторными представлениями слов."
      ]
    },
    {
      "cell_type": "code",
      "metadata": {
        "id": "wUmwLvhidwq8",
        "colab_type": "code",
        "colab": {}
      },
      "source": [
        "word_index = tokenizer.word_index"
      ],
      "execution_count": 0,
      "outputs": []
    },
    {
      "cell_type": "markdown",
      "metadata": {
        "id": "YsG8Jtie4vKh",
        "colab_type": "text"
      },
      "source": [
        "Преобразование списков целых чисел в тензоры с заданной формой:"
      ]
    },
    {
      "cell_type": "code",
      "metadata": {
        "id": "Lj0WGbPmF6OY",
        "colab_type": "code",
        "outputId": "60c110cd-a0f6-4233-e761-9a1aa8fc2d14",
        "colab": {
          "base_uri": "https://localhost:8080/",
          "height": 34
        }
      },
      "source": [
        "data = pad_sequences(sequences, maxlen=max_len)\n",
        "len(data)"
      ],
      "execution_count": 144,
      "outputs": [
        {
          "output_type": "execute_result",
          "data": {
            "text/plain": [
              "3000"
            ]
          },
          "metadata": {
            "tags": []
          },
          "execution_count": 144
        }
      ]
    },
    {
      "cell_type": "code",
      "metadata": {
        "id": "IzgQgCNgGHIP",
        "colab_type": "code",
        "colab": {}
      },
      "source": [
        "labels = np.asarray(labels)"
      ],
      "execution_count": 0,
      "outputs": []
    },
    {
      "cell_type": "markdown",
      "metadata": {
        "id": "t8FTCOxw5BKc",
        "colab_type": "text"
      },
      "source": [
        "Категоризацию отзывов я произведу с помощью отдельной функции."
      ]
    },
    {
      "cell_type": "code",
      "metadata": {
        "id": "ICLLGyOnOfpC",
        "colab_type": "code",
        "outputId": "942eb8d7-279a-43d6-ee23-28d23f64d926",
        "colab": {
          "base_uri": "https://localhost:8080/",
          "height": 34
        }
      },
      "source": [
        "def to_one_hot(labels, dimension=3):\n",
        "    results = np.zeros((len(labels), dimension))\n",
        "    for i, label in enumerate(labels):\n",
        "        results[i, label] = 1\n",
        "    return results\n",
        "\n",
        "labels = to_one_hot(labels)\n",
        "labels.shape"
      ],
      "execution_count": 146,
      "outputs": [
        {
          "output_type": "execute_result",
          "data": {
            "text/plain": [
              "(3000, 3)"
            ]
          },
          "metadata": {
            "tags": []
          },
          "execution_count": 146
        }
      ]
    },
    {
      "cell_type": "markdown",
      "metadata": {
        "id": "BtR2taHk5Nil",
        "colab_type": "text"
      },
      "source": [
        "Последний шаг предобработки - перемешаю упорядоченные отзывы и разделю их на тестовые и тренировочные."
      ]
    },
    {
      "cell_type": "code",
      "metadata": {
        "id": "9kQPFTfXGxxk",
        "colab_type": "code",
        "colab": {}
      },
      "source": [
        "indices = np.arange(3000)\n",
        "np.random.shuffle(indices)\n",
        "data = data[indices]\n",
        "labels = labels[indices]"
      ],
      "execution_count": 0,
      "outputs": []
    },
    {
      "cell_type": "code",
      "metadata": {
        "id": "-XD33CFcHhBs",
        "colab_type": "code",
        "colab": {}
      },
      "source": [
        "X_train = data[:training_samples]\n",
        "y_train = labels[:training_samples]\n",
        "X_test = data[training_samples:]\n",
        "y_test = labels[training_samples:]"
      ],
      "execution_count": 0,
      "outputs": []
    },
    {
      "cell_type": "markdown",
      "metadata": {
        "id": "H2koIQUEIFkY",
        "colab_type": "text"
      },
      "source": [
        "## Шаг 2. Обучение без использования предварительно обученных векторных представлений."
      ]
    },
    {
      "cell_type": "code",
      "metadata": {
        "id": "5vwIppy-H98K",
        "colab_type": "code",
        "colab": {}
      },
      "source": [
        "from keras.models import Sequential\n",
        "from keras.layers import Embedding, Flatten, Dense"
      ],
      "execution_count": 0,
      "outputs": []
    },
    {
      "cell_type": "markdown",
      "metadata": {
        "id": "Vfw1caWo58XZ",
        "colab_type": "text"
      },
      "source": [
        "Моя сеть будет состоять из следующих слоев: Embedding - слой, связывающий числовые представления слов в векторные представления, Flatten - \"выравнивающий\" слой, Dense - полносвязный слой с 32 нейронами и еще один с 3 выводами по количеству категорий."
      ]
    },
    {
      "cell_type": "code",
      "metadata": {
        "id": "foPW8M6WIdsn",
        "colab_type": "code",
        "outputId": "5932446d-1fb8-4ba6-a208-83fdfef783a9",
        "colab": {
          "base_uri": "https://localhost:8080/",
          "height": 289
        }
      },
      "source": [
        "simple_model = Sequential()\n",
        "simple_model.add(Embedding(max_words, 300, input_length=max_len))\n",
        "simple_model.add(Flatten())\n",
        "simple_model.add(Dense(32, activation='relu'))\n",
        "simple_model.add(Dense(3, activation='softmax'))\n",
        "simple_model.summary()"
      ],
      "execution_count": 18,
      "outputs": [
        {
          "output_type": "stream",
          "text": [
            "Model: \"sequential_2\"\n",
            "_________________________________________________________________\n",
            "Layer (type)                 Output Shape              Param #   \n",
            "=================================================================\n",
            "embedding_2 (Embedding)      (None, 500, 300)          3000000   \n",
            "_________________________________________________________________\n",
            "flatten_2 (Flatten)          (None, 150000)            0         \n",
            "_________________________________________________________________\n",
            "dense_3 (Dense)              (None, 32)                4800032   \n",
            "_________________________________________________________________\n",
            "dense_4 (Dense)              (None, 3)                 99        \n",
            "=================================================================\n",
            "Total params: 7,800,131\n",
            "Trainable params: 7,800,131\n",
            "Non-trainable params: 0\n",
            "_________________________________________________________________\n"
          ],
          "name": "stdout"
        }
      ]
    },
    {
      "cell_type": "code",
      "metadata": {
        "id": "MdfAJ0KtJ2hV",
        "colab_type": "code",
        "outputId": "c48d126a-9948-44f2-89db-7cddbf0e46d1",
        "colab": {
          "base_uri": "https://localhost:8080/",
          "height": 340
        }
      },
      "source": [
        "simple_model.compile(optimizer='rmsprop',\n",
        "                     loss='categorical_crossentropy',\n",
        "                     metrics=['acc'])\n",
        "simple_model_history = simple_model.fit(X_train, y_train,\n",
        "                                        epochs=10,\n",
        "                                        batch_size=32,\n",
        "                                        validation_split=0.2)"
      ],
      "execution_count": 19,
      "outputs": [
        {
          "output_type": "stream",
          "text": [
            "1920/1920 [==============================] - 8s 4ms/step - loss: 1.3003 - acc: 0.3807 - val_loss: 1.0473 - val_acc: 0.4646\n",
            "Epoch 2/10\n",
            "1920/1920 [==============================] - 7s 4ms/step - loss: 0.6731 - acc: 0.6672 - val_loss: 0.8489 - val_acc: 0.6167\n",
            "Epoch 3/10\n",
            "1920/1920 [==============================] - 7s 4ms/step - loss: 0.1758 - acc: 0.9370 - val_loss: 0.9866 - val_acc: 0.6125\n",
            "Epoch 4/10\n",
            "1920/1920 [==============================] - 7s 4ms/step - loss: 0.0102 - acc: 0.9995 - val_loss: 1.0820 - val_acc: 0.5625\n",
            "Epoch 5/10\n",
            "1920/1920 [==============================] - 7s 4ms/step - loss: 8.9307e-04 - acc: 1.0000 - val_loss: 1.2059 - val_acc: 0.5792\n",
            "Epoch 6/10\n",
            "1920/1920 [==============================] - 7s 4ms/step - loss: 4.9915e-05 - acc: 1.0000 - val_loss: 1.2510 - val_acc: 0.5729\n",
            "Epoch 7/10\n",
            "1920/1920 [==============================] - 7s 4ms/step - loss: 6.2580e-06 - acc: 1.0000 - val_loss: 1.3417 - val_acc: 0.5792\n",
            "Epoch 8/10\n",
            "1920/1920 [==============================] - 7s 4ms/step - loss: 6.3634e-07 - acc: 1.0000 - val_loss: 1.4276 - val_acc: 0.5667\n",
            "Epoch 9/10\n",
            "1920/1920 [==============================] - 7s 4ms/step - loss: 2.3010e-07 - acc: 1.0000 - val_loss: 1.5300 - val_acc: 0.5708\n",
            "Epoch 10/10\n",
            "1920/1920 [==============================] - 7s 4ms/step - loss: 1.4625e-07 - acc: 1.0000 - val_loss: 1.6208 - val_acc: 0.5625\n"
          ],
          "name": "stdout"
        }
      ]
    },
    {
      "cell_type": "markdown",
      "metadata": {
        "id": "_jC_q5jp8ZuW",
        "colab_type": "text"
      },
      "source": [
        "Визуализирую процесс обучения сети"
      ]
    },
    {
      "cell_type": "code",
      "metadata": {
        "id": "Mx8WTYrcQ53G",
        "colab_type": "code",
        "outputId": "2ada9132-cdc6-4a40-c732-4c5d9a183086",
        "colab": {
          "base_uri": "https://localhost:8080/",
          "height": 551
        }
      },
      "source": [
        "from matplotlib import pyplot as plt\n",
        "import seaborn as sns\n",
        "sns.set(style=\"darkgrid\")\n",
        "\n",
        "def plotting(history):\n",
        "    acc = history.history['acc']\n",
        "    val_acc = history.history['val_acc']\n",
        "    loss = history.history['loss']\n",
        "    val_loss = history.history['val_loss']\n",
        "\n",
        "    epochs = range(1, len(acc) + 1)\n",
        "    plt.plot(epochs, acc, 'b', color='blue', label='Training acc')\n",
        "    plt.plot(epochs, val_acc, 'b', color='orange', label='Validation acc')\n",
        "    plt.title('Training and validation accuracy')\n",
        "    plt.legend()\n",
        "\n",
        "    plt.figure()\n",
        "    plt.plot(epochs, loss, 'b', color='blue', label='Training loss')\n",
        "    plt.plot(epochs, val_loss, 'b', color='orange', label='Validation loss')\n",
        "    plt.title('Training and validation loss')\n",
        "    plt.legend()\n",
        "    plt.show()\n",
        "\n",
        "plotting(simple_model_history)"
      ],
      "execution_count": 32,
      "outputs": [
        {
          "output_type": "display_data",
          "data": {
            "image/png": "[encoded data removed]",
            "text/plain": [
              "<Figure size 432x288 with 1 Axes>"
            ]
          },
          "metadata": {
            "tags": []
          }
        },
        {
          "output_type": "display_data",
          "data": {
            "image/png": "[encoded data removed]",
            "text/plain": [
              "<Figure size 432x288 with 1 Axes>"
            ]
          },
          "metadata": {
            "tags": []
          }
        }
      ]
    },
    {
      "cell_type": "code",
      "metadata": {
        "id": "bGc_ON5iTVtv",
        "colab_type": "code",
        "outputId": "1d55f0f3-2b52-4f4f-d0c6-7f6bf07780d8",
        "colab": {
          "base_uri": "https://localhost:8080/",
          "height": 51
        }
      },
      "source": [
        "simple_model.evaluate(X_test, y_test)"
      ],
      "execution_count": 21,
      "outputs": [
        {
          "output_type": "stream",
          "text": [
            "600/600 [==============================] - 0s 386us/step\n"
          ],
          "name": "stdout"
        },
        {
          "output_type": "execute_result",
          "data": {
            "text/plain": [
              "[1.2451126956939698, 0.6499999992052714]"
            ]
          },
          "metadata": {
            "tags": []
          },
          "execution_count": 21
        }
      ]
    },
    {
      "cell_type": "markdown",
      "metadata": {
        "id": "vgZXH4Uv8j71",
        "colab_type": "text"
      },
      "source": [
        "Модель быстро достигает состояния переобучения и в целом показывает плохой результат. Хотя 65 % правильно классифицированных отзывов выше случайного угадывания, тем не менее результат неудовлетворительный."
      ]
    },
    {
      "cell_type": "markdown",
      "metadata": {
        "id": "FF3DuAVEWb54",
        "colab_type": "text"
      },
      "source": [
        "## Шаг 3. Обучение с предварительно обученными векторными предствалениями слов."
      ]
    },
    {
      "cell_type": "markdown",
      "metadata": {
        "id": "rGzbHH0M9Gxo",
        "colab_type": "text"
      },
      "source": [
        "Для русского языка существуют предварительно обученные векторные представления слов в пакете gensim."
      ]
    },
    {
      "cell_type": "code",
      "metadata": {
        "id": "u-V6JHKB9GVZ",
        "colab_type": "code",
        "outputId": "73313dc1-ee17-4038-bbc0-a897ada666ae",
        "colab": {
          "base_uri": "https://localhost:8080/",
          "height": 88
        }
      },
      "source": [
        "import gensim\n",
        "import gensim.downloader as download_api\n",
        "russian_model = download_api.load('word2vec-ruscorpora-300')"
      ],
      "execution_count": 22,
      "outputs": [
        {
          "output_type": "stream",
          "text": [
            "[==================================================] 100.0% 198.8/198.8MB downloaded\n"
          ],
          "name": "stdout"
        },
        {
          "output_type": "stream",
          "text": [
            "/usr/local/lib/python3.6/dist-packages/smart_open/smart_open_lib.py:402: UserWarning: This function is deprecated, use smart_open.open instead. See the migration notes for details: https://github.com/RaRe-Technologies/smart_open/blob/master/README.rst#migrating-to-the-new-open-function\n",
            "  'See the migration notes for details: %s' % _MIGRATION_NOTES_URL\n"
          ],
          "name": "stderr"
        }
      ]
    },
    {
      "cell_type": "code",
      "metadata": {
        "id": "TBjqLAwA9cnj",
        "colab_type": "code",
        "outputId": "15d2ffb1-abdb-40a9-deac-e3085836bfeb",
        "colab": {
          "base_uri": "https://localhost:8080/",
          "height": 34
        }
      },
      "source": [
        "len(russian_model.vocab.keys())"
      ],
      "execution_count": 23,
      "outputs": [
        {
          "output_type": "execute_result",
          "data": {
            "text/plain": [
              "184973"
            ]
          },
          "metadata": {
            "tags": []
          },
          "execution_count": 23
        }
      ]
    },
    {
      "cell_type": "markdown",
      "metadata": {
        "id": "NV-pGNSb959l",
        "colab_type": "text"
      },
      "source": [
        "Подозрительно, что словарь (или корпус, как принято называть) имеет слишком мало слов. К примеру, словарь из моих 3000 отзывов имеет примерно 100000 слов. Это может ухудшить результаты, так как будет просто очень много пропусков при сравнивании словарей в поисках весовых матриц."
      ]
    },
    {
      "cell_type": "code",
      "metadata": {
        "id": "8DJAAXt3ZvW5",
        "colab_type": "code",
        "outputId": "cbba8053-574c-4fed-9d1e-9790d4c2efc5",
        "colab": {
          "base_uri": "https://localhost:8080/",
          "height": 34
        }
      },
      "source": [
        "list(russian_model.vocab.keys())[0]"
      ],
      "execution_count": 24,
      "outputs": [
        {
          "output_type": "execute_result",
          "data": {
            "text/plain": [
              "'весь_DET'"
            ]
          },
          "metadata": {
            "tags": []
          },
          "execution_count": 24
        }
      ]
    },
    {
      "cell_type": "markdown",
      "metadata": {
        "id": "3lmf9VpW-a8j",
        "colab_type": "text"
      },
      "source": [
        "Еще одна неприятная неожиданность состоит в том, что в словаре к каждому слову приклеена его часть речи. Таким образом, напрямую забрать веса для своих слов я не смогу. Поэтому я заведу отдельный почищенный от частей речи словарь, буду вытаскивать индексы из сравнения своих слов со словами этого чистого словаря и после по индексам буду вытаскивать веса из изначального словаря russian_model."
      ]
    },
    {
      "cell_type": "code",
      "metadata": {
        "id": "Cf73ZLziGOIP",
        "colab_type": "code",
        "outputId": "074545cf-b7c3-45eb-ed08-0deee358fed5",
        "colab": {
          "base_uri": "https://localhost:8080/",
          "height": 34
        }
      },
      "source": [
        "import re\n",
        "\n",
        "russian_dict = []\n",
        "for x in list(russian_model.vocab.keys()):\n",
        "    russian_dict.append(re.sub(r'_\\w*', '', x))\n",
        "len(russian_dict)"
      ],
      "execution_count": 25,
      "outputs": [
        {
          "output_type": "execute_result",
          "data": {
            "text/plain": [
              "184973"
            ]
          },
          "metadata": {
            "tags": []
          },
          "execution_count": 25
        }
      ]
    },
    {
      "cell_type": "code",
      "metadata": {
        "id": "2ZTs5i7ZI01p",
        "colab_type": "code",
        "colab": {}
      },
      "source": [
        "embedding_matrix = np.zeros((max_words, 300))\n",
        "for word, i in word_index.items():\n",
        "    if i < max_words:\n",
        "        try:\n",
        "            word_index = russian_dict.index(word)\n",
        "            word_in_model = list(russian_model.vocab.keys())[word_index]\n",
        "            embedding_vector = russian_model.get_vector(word_in_model)\n",
        "        except ValueError:\n",
        "            embedding_vector = None \n",
        "        if embedding_vector is not None:\n",
        "            embedding_matrix[i] = embedding_vector"
      ],
      "execution_count": 0,
      "outputs": []
    },
    {
      "cell_type": "markdown",
      "metadata": {
        "id": "LVZqAKke_NyX",
        "colab_type": "text"
      },
      "source": [
        "Структуру сети я оставляю прежней, просто добавляю на первый слой матрицу весов из предварительно обученного векторного представления."
      ]
    },
    {
      "cell_type": "code",
      "metadata": {
        "id": "tsU4udzj_gPa",
        "colab_type": "code",
        "outputId": "dba82e15-ab9e-4a74-bb9d-6b0f151eaf01",
        "colab": {
          "base_uri": "https://localhost:8080/",
          "height": 289
        }
      },
      "source": [
        "vector_model = Sequential()\n",
        "vector_model.add(Embedding(max_words, 300, input_length=max_len))\n",
        "vector_model.add(Flatten())\n",
        "vector_model.add(Dense(32, activation='relu'))\n",
        "vector_model.add(Dense(3, activation='softmax'))\n",
        "vector_model.summary()"
      ],
      "execution_count": 27,
      "outputs": [
        {
          "output_type": "stream",
          "text": [
            "Model: \"sequential_3\"\n",
            "_________________________________________________________________\n",
            "Layer (type)                 Output Shape              Param #   \n",
            "=================================================================\n",
            "embedding_3 (Embedding)      (None, 500, 300)          3000000   \n",
            "_________________________________________________________________\n",
            "flatten_3 (Flatten)          (None, 150000)            0         \n",
            "_________________________________________________________________\n",
            "dense_5 (Dense)              (None, 32)                4800032   \n",
            "_________________________________________________________________\n",
            "dense_6 (Dense)              (None, 3)                 99        \n",
            "=================================================================\n",
            "Total params: 7,800,131\n",
            "Trainable params: 7,800,131\n",
            "Non-trainable params: 0\n",
            "_________________________________________________________________\n"
          ],
          "name": "stdout"
        }
      ]
    },
    {
      "cell_type": "code",
      "metadata": {
        "id": "ftFaNZZxVjD8",
        "colab_type": "code",
        "colab": {}
      },
      "source": [
        "vector_model.layers[0].set_weights([embedding_matrix])\n",
        "vector_model.layers[0].trainable = False"
      ],
      "execution_count": 0,
      "outputs": []
    },
    {
      "cell_type": "code",
      "metadata": {
        "id": "Nof1ziXJ_1i-",
        "colab_type": "code",
        "outputId": "96b6c394-884d-40e9-8b4b-5e3d3ca6745b",
        "colab": {
          "base_uri": "https://localhost:8080/",
          "height": 374
        }
      },
      "source": [
        "vector_model.compile(optimizer='rmsprop',\n",
        "                     loss='categorical_crossentropy',\n",
        "                     metrics=['acc'])\n",
        "vector_model_history = vector_model.fit(X_train, y_train,\n",
        "                                        epochs=10,\n",
        "                                        batch_size=32,\n",
        "                                        validation_split=0.2)"
      ],
      "execution_count": 29,
      "outputs": [
        {
          "output_type": "stream",
          "text": [
            "Train on 1920 samples, validate on 480 samples\n",
            "Epoch 1/10\n",
            "1920/1920 [==============================] - 5s 3ms/step - loss: 1.0970 - acc: 0.3667 - val_loss: 1.0923 - val_acc: 0.3625\n",
            "Epoch 2/10\n",
            "1920/1920 [==============================] - 5s 2ms/step - loss: 0.6207 - acc: 0.8682 - val_loss: 1.0901 - val_acc: 0.4521\n",
            "Epoch 3/10\n",
            "1920/1920 [==============================] - 5s 2ms/step - loss: 0.1944 - acc: 0.9896 - val_loss: 1.1716 - val_acc: 0.4354\n",
            "Epoch 4/10\n",
            "1920/1920 [==============================] - 5s 2ms/step - loss: 0.0468 - acc: 0.9990 - val_loss: 1.3130 - val_acc: 0.4375\n",
            "Epoch 5/10\n",
            "1920/1920 [==============================] - 4s 2ms/step - loss: 0.0092 - acc: 1.0000 - val_loss: 1.5035 - val_acc: 0.4104\n",
            "Epoch 6/10\n",
            "1920/1920 [==============================] - 5s 2ms/step - loss: 0.0019 - acc: 1.0000 - val_loss: 1.7665 - val_acc: 0.4146\n",
            "Epoch 7/10\n",
            "1920/1920 [==============================] - 5s 2ms/step - loss: 4.2940e-04 - acc: 1.0000 - val_loss: 1.9803 - val_acc: 0.3937\n",
            "Epoch 8/10\n",
            "1920/1920 [==============================] - 4s 2ms/step - loss: 1.0090e-04 - acc: 1.0000 - val_loss: 2.1665 - val_acc: 0.3937\n",
            "Epoch 9/10\n",
            "1920/1920 [==============================] - 4s 2ms/step - loss: 2.8472e-05 - acc: 1.0000 - val_loss: 2.2958 - val_acc: 0.4042\n",
            "Epoch 10/10\n",
            "1920/1920 [==============================] - 5s 2ms/step - loss: 1.0007e-05 - acc: 1.0000 - val_loss: 2.4036 - val_acc: 0.4021\n"
          ],
          "name": "stdout"
        }
      ]
    },
    {
      "cell_type": "code",
      "metadata": {
        "id": "rWbA4LMQZh6Y",
        "colab_type": "code",
        "outputId": "30f9113d-92b2-4261-aa9f-2541d4a555bf",
        "colab": {
          "base_uri": "https://localhost:8080/",
          "height": 551
        }
      },
      "source": [
        "plotting(vector_model_history)"
      ],
      "execution_count": 33,
      "outputs": [
        {
          "output_type": "display_data",
          "data": {
            "image/png": "[encoded data removed]",
            "text/plain": [
              "<Figure size 432x288 with 1 Axes>"
            ]
          },
          "metadata": {
            "tags": []
          }
        },
        {
          "output_type": "display_data",
          "data": {
            "image/png": "[encoded data removed]",
            "text/plain": [
              "<Figure size 432x288 with 1 Axes>"
            ]
          },
          "metadata": {
            "tags": []
          }
        }
      ]
    },
    {
      "cell_type": "code",
      "metadata": {
        "colab_type": "code",
        "outputId": "075c7013-d32a-4014-81aa-468c5255986e",
        "id": "iqN0cdL1Y3pE",
        "colab": {
          "base_uri": "https://localhost:8080/",
          "height": 51
        }
      },
      "source": [
        "vector_model.evaluate(X_test, y_test)"
      ],
      "execution_count": 34,
      "outputs": [
        {
          "output_type": "stream",
          "text": [
            "600/600 [==============================] - 0s 381us/step\n"
          ],
          "name": "stdout"
        },
        {
          "output_type": "execute_result",
          "data": {
            "text/plain": [
              "[2.377296551068624, 0.4316666658719381]"
            ]
          },
          "metadata": {
            "tags": []
          },
          "execution_count": 34
        }
      ]
    },
    {
      "cell_type": "markdown",
      "metadata": {
        "id": "BTv9Z-sgAb-s",
        "colab_type": "text"
      },
      "source": [
        "Результат катастрофически ухудшился. Как я предполагаю, это может быть связано с малой выборкой в словаре, в который не входят опечатки и ошибки слов, которые, естесственно, встречаются в отзывах на КиноПоиске. В данном случае помог бы словарь, учитывающий эти случаи, и такой словарь существует, но он довольно тяжеловесный и я не стал с ним работать."
      ]
    },
    {
      "cell_type": "markdown",
      "metadata": {
        "id": "Zhe5mZSRekE0",
        "colab_type": "text"
      },
      "source": [
        "## Шаг 4. Рекуррентные сети."
      ]
    },
    {
      "cell_type": "markdown",
      "metadata": {
        "id": "EVoCOGyeBJ_U",
        "colab_type": "text"
      },
      "source": [
        "Данный тип сети позволяет \"запоминать\" предыдущие состояния на этапе обучения. Поэтому результаты должны улучшиться. В модели я заменяю полносвязный слой Dense на слой LSTM."
      ]
    },
    {
      "cell_type": "code",
      "metadata": {
        "id": "gqL28mNlZ_C1",
        "colab_type": "code",
        "outputId": "abc6ff96-5fdc-4956-ba23-55b40b8039d7",
        "colab": {
          "base_uri": "https://localhost:8080/",
          "height": 255
        }
      },
      "source": [
        "from keras.layers import LSTM\n",
        "\n",
        "LSTM_model = Sequential()\n",
        "LSTM_model.add(Embedding(max_words, 32))\n",
        "LSTM_model.add(LSTM(32))\n",
        "LSTM_model.add(Dense(3, activation='softmax'))\n",
        "LSTM_model.summary()"
      ],
      "execution_count": 149,
      "outputs": [
        {
          "output_type": "stream",
          "text": [
            "Model: \"sequential_9\"\n",
            "_________________________________________________________________\n",
            "Layer (type)                 Output Shape              Param #   \n",
            "=================================================================\n",
            "embedding_9 (Embedding)      (None, None, 32)          320000    \n",
            "_________________________________________________________________\n",
            "lstm_6 (LSTM)                (None, 32)                8320      \n",
            "_________________________________________________________________\n",
            "dense_12 (Dense)             (None, 3)                 99        \n",
            "=================================================================\n",
            "Total params: 328,419\n",
            "Trainable params: 328,419\n",
            "Non-trainable params: 0\n",
            "_________________________________________________________________\n"
          ],
          "name": "stdout"
        }
      ]
    },
    {
      "cell_type": "code",
      "metadata": {
        "id": "EYmlyGo5bp6Q",
        "colab_type": "code",
        "outputId": "35917efa-0cb5-4a24-ae1f-63190213b6cb",
        "colab": {
          "base_uri": "https://localhost:8080/",
          "height": 476
        }
      },
      "source": [
        "LSTM_model.compile(optimizer='rmsprop',\n",
        "                   loss='categorical_crossentropy',\n",
        "                   metrics=['acc'])\n",
        "LSTM_model_history = LSTM_model.fit(X_train, y_train,\n",
        "                                    epochs=13,\n",
        "                                    batch_size=128,\n",
        "                                    validation_split=0.2)"
      ],
      "execution_count": 150,
      "outputs": [
        {
          "output_type": "stream",
          "text": [
            "Train on 1920 samples, validate on 480 samples\n",
            "Epoch 1/13\n",
            "1920/1920 [==============================] - 11s 6ms/step - loss: 1.0918 - acc: 0.4036 - val_loss: 1.0797 - val_acc: 0.5312\n",
            "Epoch 2/13\n",
            "1920/1920 [==============================] - 9s 4ms/step - loss: 1.0629 - acc: 0.5839 - val_loss: 0.9217 - val_acc: 0.5729\n",
            "Epoch 3/13\n",
            "1920/1920 [==============================] - 9s 5ms/step - loss: 0.8439 - acc: 0.6370 - val_loss: 0.8414 - val_acc: 0.5604\n",
            "Epoch 4/13\n",
            "1920/1920 [==============================] - 9s 4ms/step - loss: 0.7530 - acc: 0.6531 - val_loss: 0.7582 - val_acc: 0.6667\n",
            "Epoch 5/13\n",
            "1920/1920 [==============================] - 9s 5ms/step - loss: 0.6319 - acc: 0.7385 - val_loss: 0.7432 - val_acc: 0.6187\n",
            "Epoch 6/13\n",
            "1920/1920 [==============================] - 9s 5ms/step - loss: 0.5694 - acc: 0.7875 - val_loss: 0.6782 - val_acc: 0.6917\n",
            "Epoch 7/13\n",
            "1920/1920 [==============================] - 9s 5ms/step - loss: 0.5024 - acc: 0.8380 - val_loss: 0.6759 - val_acc: 0.6708\n",
            "Epoch 8/13\n",
            "1920/1920 [==============================] - 9s 4ms/step - loss: 0.4132 - acc: 0.8729 - val_loss: 0.6598 - val_acc: 0.7063\n",
            "Epoch 9/13\n",
            "1920/1920 [==============================] - 9s 4ms/step - loss: 0.3790 - acc: 0.8807 - val_loss: 0.6506 - val_acc: 0.7167\n",
            "Epoch 10/13\n",
            "1920/1920 [==============================] - 9s 5ms/step - loss: 0.2982 - acc: 0.9125 - val_loss: 0.6578 - val_acc: 0.6917\n",
            "Epoch 11/13\n",
            "1920/1920 [==============================] - 9s 4ms/step - loss: 0.2424 - acc: 0.9380 - val_loss: 0.7765 - val_acc: 0.6458\n",
            "Epoch 12/13\n",
            "1920/1920 [==============================] - 9s 5ms/step - loss: 0.2205 - acc: 0.9432 - val_loss: 0.6662 - val_acc: 0.7208\n",
            "Epoch 13/13\n",
            "1920/1920 [==============================] - 9s 5ms/step - loss: 0.1580 - acc: 0.9656 - val_loss: 0.7927 - val_acc: 0.6792\n"
          ],
          "name": "stdout"
        }
      ]
    },
    {
      "cell_type": "code",
      "metadata": {
        "id": "GNQGdBCSexWr",
        "colab_type": "code",
        "outputId": "63ecc7b7-64e5-482a-b544-8f0d947f0403",
        "colab": {
          "base_uri": "https://localhost:8080/",
          "height": 551
        }
      },
      "source": [
        "plotting(LSTM_model_history)"
      ],
      "execution_count": 151,
      "outputs": [
        {
          "output_type": "display_data",
          "data": {
            "image/png": "[encoded data removed]",
            "text/plain": [
              "<Figure size 432x288 with 1 Axes>"
            ]
          },
          "metadata": {
            "tags": []
          }
        },
        {
          "output_type": "display_data",
          "data": {
            "image/png": "[encoded data removed]",
            "text/plain": [
              "<Figure size 432x288 with 1 Axes>"
            ]
          },
          "metadata": {
            "tags": []
          }
        }
      ]
    },
    {
      "cell_type": "code",
      "metadata": {
        "id": "6frJOU3qecpe",
        "colab_type": "code",
        "outputId": "cfcbb452-810c-47a1-d2ee-87144e5b8a8f",
        "colab": {
          "base_uri": "https://localhost:8080/",
          "height": 51
        }
      },
      "source": [
        "LSTM_model.evaluate(X_test, y_test)"
      ],
      "execution_count": 152,
      "outputs": [
        {
          "output_type": "stream",
          "text": [
            "600/600 [==============================] - 1s 2ms/step\n"
          ],
          "name": "stdout"
        },
        {
          "output_type": "execute_result",
          "data": {
            "text/plain": [
              "[0.7488463282585144, 0.663333334128062]"
            ]
          },
          "metadata": {
            "tags": []
          },
          "execution_count": 152
        }
      ]
    },
    {
      "cell_type": "markdown",
      "metadata": {
        "id": "p39r9wrOMm7r",
        "colab_type": "text"
      },
      "source": [
        "Я несколько раз проводил обучение сети с разным количеством параметров, не забывая предварительно заново перемешивать данные, но в среднем результат не превышает 70 %. Что, конечно лучше, но все равно неудовлетворительно."
      ]
    },
    {
      "cell_type": "markdown",
      "metadata": {
        "id": "U1Guz89LM-w-",
        "colab_type": "text"
      },
      "source": [
        "## Шаг 5. Исключение нейтральных отзывов."
      ]
    },
    {
      "cell_type": "markdown",
      "metadata": {
        "id": "IpfLmVn-NEyN",
        "colab_type": "text"
      },
      "source": [
        "Так или иначе, но анализ текста с помощью нейросетей основан на частотном анализе текста. Так что важную роль будет играть эмоциональная окраска слов. То есть, выразительные слова с положительной характеристикой едва ли будут часто встречатся в отрицательных отзывах и наоборот. Другое дело с нейтральными отзывами, которые, возможно, в целом не имеют эмоциональных фраз, а значит слова, используемые для нейтральной оценки могут равновероятно встречаться в любом типе отзывов, что сильно снижает качество классификации. Поэтому я удалю эти отзывы из датасета совсем и посмотрю, что получится."
      ]
    },
    {
      "cell_type": "code",
      "metadata": {
        "id": "-peeSsI9c-Px",
        "colab_type": "code",
        "colab": {}
      },
      "source": [
        "binary_data = reviews[:2000]\n",
        "binary_labels = [0 for _ in range(1000)] + [1 for _ in range(1000)]"
      ],
      "execution_count": 0,
      "outputs": []
    },
    {
      "cell_type": "code",
      "metadata": {
        "id": "u4TVl2NgreNE",
        "colab_type": "code",
        "colab": {}
      },
      "source": [
        "max_len = 500\n",
        "training_samples = 1500\n",
        "max_words = 10000\n",
        "binary_tokenizer = Tokenizer(num_words=max_words)\n",
        "binary_tokenizer.fit_on_texts(binary_data)\n",
        "binary_sequences = binary_tokenizer.texts_to_sequences(binary_data)\n",
        "binary_word_index = binary_tokenizer.word_index\n",
        "binary_data = pad_sequences(binary_sequences, maxlen=max_len)\n",
        "binary_labels = np.asarray(binary_labels)\n",
        "indices = np.arange(2000)\n",
        "np.random.shuffle(indices)\n",
        "binary_data = binary_data[indices]\n",
        "binary_labels = binary_labels[indices]\n",
        "binary_X_train = binary_data[:training_samples]\n",
        "binary_y_train = binary_labels[:training_samples]\n",
        "binary_X_test = binary_data[training_samples:]\n",
        "binary_y_test = binary_labels[training_samples:]"
      ],
      "execution_count": 0,
      "outputs": []
    },
    {
      "cell_type": "code",
      "metadata": {
        "id": "araDqd3ttA83",
        "colab_type": "code",
        "outputId": "c4bab804-8dc4-4aba-a682-667c7988414e",
        "colab": {
          "base_uri": "https://localhost:8080/",
          "height": 544
        }
      },
      "source": [
        "binary_model = Sequential()\n",
        "binary_model.add(Embedding(max_words, 32))\n",
        "binary_model.add(LSTM(32))\n",
        "binary_model.add(Dense(1, activation='sigmoid'))\n",
        "binary_model.compile(optimizer='rmsprop',\n",
        "                     loss='binary_crossentropy',\n",
        "                     metrics=['acc'])\n",
        "binary_model_history = binary_model.fit(binary_X_train, binary_y_train,\n",
        "                                        epochs=15,\n",
        "                                        batch_size=128,\n",
        "                                        validation_split=0.2)"
      ],
      "execution_count": 156,
      "outputs": [
        {
          "output_type": "stream",
          "text": [
            "Train on 1200 samples, validate on 300 samples\n",
            "Epoch 1/15\n",
            "1200/1200 [==============================] - 9s 8ms/step - loss: 0.6906 - acc: 0.5375 - val_loss: 0.6821 - val_acc: 0.6033\n",
            "Epoch 2/15\n",
            "1200/1200 [==============================] - 6s 5ms/step - loss: 0.7131 - acc: 0.6083 - val_loss: 0.6243 - val_acc: 0.8300\n",
            "Epoch 3/15\n",
            "1200/1200 [==============================] - 6s 5ms/step - loss: 0.5395 - acc: 0.8975 - val_loss: 0.5199 - val_acc: 0.8600\n",
            "Epoch 4/15\n",
            "1200/1200 [==============================] - 6s 5ms/step - loss: 0.4136 - acc: 0.9250 - val_loss: 0.5264 - val_acc: 0.8400\n",
            "Epoch 5/15\n",
            "1200/1200 [==============================] - 6s 5ms/step - loss: 0.3536 - acc: 0.9425 - val_loss: 0.4823 - val_acc: 0.8333\n",
            "Epoch 6/15\n",
            "1200/1200 [==============================] - 6s 5ms/step - loss: 0.2842 - acc: 0.9750 - val_loss: 0.3140 - val_acc: 0.9167\n",
            "Epoch 7/15\n",
            "1200/1200 [==============================] - 6s 5ms/step - loss: 0.2009 - acc: 0.9783 - val_loss: 0.4202 - val_acc: 0.8233\n",
            "Epoch 8/15\n",
            "1200/1200 [==============================] - 6s 5ms/step - loss: 0.1774 - acc: 0.9808 - val_loss: 0.2582 - val_acc: 0.9200\n",
            "Epoch 9/15\n",
            "1200/1200 [==============================] - 6s 5ms/step - loss: 0.1194 - acc: 0.9900 - val_loss: 0.2249 - val_acc: 0.9233\n",
            "Epoch 10/15\n",
            "1200/1200 [==============================] - 6s 5ms/step - loss: 0.3666 - acc: 0.8933 - val_loss: 0.2276 - val_acc: 0.9233\n",
            "Epoch 11/15\n",
            "1200/1200 [==============================] - 6s 5ms/step - loss: 0.0753 - acc: 0.9942 - val_loss: 0.2276 - val_acc: 0.9167\n",
            "Epoch 12/15\n",
            "1200/1200 [==============================] - 6s 5ms/step - loss: 0.0623 - acc: 0.9950 - val_loss: 0.2265 - val_acc: 0.9133\n",
            "Epoch 13/15\n",
            "1200/1200 [==============================] - 6s 5ms/step - loss: 0.0502 - acc: 0.9942 - val_loss: 0.2500 - val_acc: 0.9033\n",
            "Epoch 14/15\n",
            "1200/1200 [==============================] - 6s 5ms/step - loss: 0.0422 - acc: 0.9950 - val_loss: 0.2378 - val_acc: 0.9100\n",
            "Epoch 15/15\n",
            "1200/1200 [==============================] - 6s 5ms/step - loss: 0.0339 - acc: 0.9967 - val_loss: 0.2189 - val_acc: 0.9200\n"
          ],
          "name": "stdout"
        }
      ]
    },
    {
      "cell_type": "code",
      "metadata": {
        "id": "eBMf8Nj4ui3B",
        "colab_type": "code",
        "outputId": "1904b265-413d-4781-b74b-dff1f5d78b3a",
        "colab": {
          "base_uri": "https://localhost:8080/",
          "height": 551
        }
      },
      "source": [
        "plotting(binary_model_history)"
      ],
      "execution_count": 157,
      "outputs": [
        {
          "output_type": "display_data",
          "data": {
            "image/png": "[encoded data removed]",
            "text/plain": [
              "<Figure size 432x288 with 1 Axes>"
            ]
          },
          "metadata": {
            "tags": []
          }
        },
        {
          "output_type": "display_data",
          "data": {
            "image/png": "[encoded data removed]",
            "text/plain": [
              "<Figure size 432x288 with 1 Axes>"
            ]
          },
          "metadata": {
            "tags": []
          }
        }
      ]
    },
    {
      "cell_type": "code",
      "metadata": {
        "id": "HiNySy4ounLs",
        "colab_type": "code",
        "outputId": "75b2c32f-e04e-4473-cdec-7b1d544bba77",
        "colab": {
          "base_uri": "https://localhost:8080/",
          "height": 51
        }
      },
      "source": [
        "binary_model.evaluate(binary_X_test, binary_y_test)"
      ],
      "execution_count": 158,
      "outputs": [
        {
          "output_type": "stream",
          "text": [
            "500/500 [==============================] - 1s 2ms/step\n"
          ],
          "name": "stdout"
        },
        {
          "output_type": "execute_result",
          "data": {
            "text/plain": [
              "[0.2188947651386261, 0.9259999995231628]"
            ]
          },
          "metadata": {
            "tags": []
          },
          "execution_count": 158
        }
      ]
    },
    {
      "cell_type": "markdown",
      "metadata": {
        "id": "jahNoQnQPAOd",
        "colab_type": "text"
      },
      "source": [
        "Поразительные 93 %. Уже думал, что и не получу такие цифры в этой работе. "
      ]
    },
    {
      "cell_type": "markdown",
      "metadata": {
        "id": "YJ8N2YUoPnu1",
        "colab_type": "text"
      },
      "source": [
        "## Вывод"
      ]
    },
    {
      "cell_type": "markdown",
      "metadata": {
        "id": "b9P0HOnZPrIU",
        "colab_type": "text"
      },
      "source": [
        "Для классификации отзывов по 3 категориям нет особой разницы, какой тип сети использовать, результат всегда был сравнительно низким (в шаге 4, как я уже упоминал, результат можно улучшить используя другой словарь). Для улучшения общего результата классификации необходимо провести обучение на большой выборке отзывов. Тем не менее, с бинарной классификацией нейросеть справляется хорошо даже с небольшой выборкой."
      ]
    }
  ]
}